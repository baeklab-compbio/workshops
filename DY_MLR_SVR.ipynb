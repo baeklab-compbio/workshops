{
 "cells": [
  {
   "cell_type": "code",
   "execution_count": 1,
   "metadata": {},
   "outputs": [],
   "source": [
    "%matplotlib inline"
   ]
  },
  {
   "cell_type": "code",
   "execution_count": 2,
   "metadata": {},
   "outputs": [],
   "source": [
    "##Prerequisite packages\n",
    "import numpy as np\n",
    "import pandas as pd\n",
    "from sklearn import linear_model\n",
    "from sklearn.svm import SVR\n",
    "from sklearn.preprocessing import StandardScaler\n",
    "from sklearn.model_selection import train_test_split, KFold,GridSearchCV, cross_val_score \n",
    "from sklearn.metrics import mean_squared_error, make_scorer, roc_curve, auc, precision_recall_curve, average_precision_score\n",
    "from scipy import stats\n",
    "\n",
    "##Example dataset\n",
    "from sklearn import datasets\n",
    "\n",
    "import matplotlib.pyplot as plt\n",
    "\n"
   ]
  },
  {
   "cell_type": "code",
   "execution_count": 3,
   "metadata": {},
   "outputs": [
    {
     "name": "stdout",
     "output_type": "stream",
     "text": [
      "Data type: <class 'numpy.ndarray'> <class 'numpy.ndarray'>\n",
      "X structure: (506, 13)\n",
      "X:\n",
      "[[6.3200e-03 1.8000e+01 2.3100e+00 0.0000e+00 5.3800e-01 6.5750e+00\n",
      "  6.5200e+01 4.0900e+00 1.0000e+00 2.9600e+02 1.5300e+01 3.9690e+02\n",
      "  4.9800e+00]\n",
      " [2.7310e-02 0.0000e+00 7.0700e+00 0.0000e+00 4.6900e-01 6.4210e+00\n",
      "  7.8900e+01 4.9671e+00 2.0000e+00 2.4200e+02 1.7800e+01 3.9690e+02\n",
      "  9.1400e+00]\n",
      " [2.7290e-02 0.0000e+00 7.0700e+00 0.0000e+00 4.6900e-01 7.1850e+00\n",
      "  6.1100e+01 4.9671e+00 2.0000e+00 2.4200e+02 1.7800e+01 3.9283e+02\n",
      "  4.0300e+00]]\n",
      "Y structure (506,)\n",
      "Y:\n",
      "[24.  21.6 34.7]\n"
     ]
    }
   ],
   "source": [
    "##Example data\n",
    "boston = datasets.load_boston()\n",
    "##X\n",
    "print('Data type:',type(boston.data),type(boston.target))\n",
    "print('X structure:',boston.data.shape)\n",
    "print('X:')\n",
    "print(boston.data[:3])\n",
    "##Y\n",
    "print('Y structure', boston.target.shape)\n",
    "print('Y:')\n",
    "print(boston.target[:3])"
   ]
  },
  {
   "cell_type": "code",
   "execution_count": 4,
   "metadata": {},
   "outputs": [
    {
     "name": "stdout",
     "output_type": "stream",
     "text": [
      "(404, 13) (102, 13) (404,) (102,)\n"
     ]
    }
   ],
   "source": [
    "##Separate data into train & test set = 4:1\n",
    "test_size = 0.2\n",
    "X_train, X_test, y_train, y_test = train_test_split(boston.data, boston.target, \n",
    "                                                    test_size=test_size, random_state=0)\n",
    "#random_state: random seed\n",
    "print(X_train.shape, X_test.shape, y_train.shape, y_test.shape)"
   ]
  },
  {
   "cell_type": "code",
   "execution_count": 5,
   "metadata": {},
   "outputs": [
    {
     "data": {
      "text/plain": [
       "LinearRegression(copy_X=True, fit_intercept=True, n_jobs=1, normalize=False)"
      ]
     },
     "execution_count": 5,
     "metadata": {},
     "output_type": "execute_result"
    }
   ],
   "source": [
    "##Multiple Linear Regression\n",
    "model_MLR     = linear_model.LinearRegression()\n",
    "model_MLR.fit(X_train,y_train)"
   ]
  },
  {
   "cell_type": "code",
   "execution_count": 6,
   "metadata": {},
   "outputs": [
    {
     "name": "stdout",
     "output_type": "stream",
     "text": [
      "    Coefficients  Standard Errors  t values  Probabilites\n",
      "0         38.139            5.523     6.905       0.00000\n",
      "1         -0.118            0.036    -3.246       0.00127\n",
      "2          0.045            0.014     3.100       0.00207\n",
      "3          0.006            0.063     0.092       0.92645\n",
      "4          2.342            0.902     2.596       0.00977\n",
      "5        -16.163            4.213    -3.837       0.00014\n",
      "6          3.701            0.458     8.090       0.00000\n",
      "7         -0.003            0.014    -0.213       0.83180\n",
      "8         -1.387            0.214    -6.480       0.00000\n",
      "9          0.244            0.070     3.475       0.00057\n",
      "10        -0.011            0.004    -2.818       0.00507\n",
      "11        -1.047            0.137    -7.643       0.00000\n",
      "12         0.008            0.003     2.786       0.00559\n",
      "13        -0.494            0.054    -9.108       0.00000\n"
     ]
    }
   ],
   "source": [
    "##MLR statistics\n",
    "##Reference: https://stackoverflow.com/questions/27928275/find-p-value-significance-in-scikit-learn-linearregression\n",
    "params = np.append(model_MLR.intercept_,model_MLR.coef_)\n",
    "predictions = model_MLR.predict(X_train)\n",
    "\n",
    "newX = np.append(np.ones((len(X_train),1)), X_train, axis=1)\n",
    "MSE = (sum((y_train-predictions)**2))/(len(newX)-len(newX[0]))\n",
    "\n",
    "var_b = MSE*(np.linalg.inv(np.dot(newX.T,newX)).diagonal())\n",
    "sd_b = np.sqrt(var_b)\n",
    "ts_b = params/ sd_b\n",
    "\n",
    "p_values =[2*(1-stats.t.cdf(np.abs(i),(len(newX)-1))) for i in ts_b]\n",
    "\n",
    "sd_b = np.round(sd_b,3)\n",
    "ts_b = np.round(ts_b,3)\n",
    "p_values = np.round(p_values,5)\n",
    "params = np.round(params,3)\n",
    "\n",
    "SummaryTable = pd.DataFrame()\n",
    "SummaryTable[\"Coefficients\"],SummaryTable[\"Standard Errors\"],SummaryTable[\"t values\"],SummaryTable[\"Probabilites\"] = [params,sd_b,ts_b,p_values]\n",
    "print(SummaryTable) #0: intercept 1~13: features"
   ]
  },
  {
   "cell_type": "code",
   "execution_count": 7,
   "metadata": {},
   "outputs": [
    {
     "name": "stdout",
     "output_type": "stream",
     "text": [
      "Mean squared error: 33.4507\n",
      "Pearson R2: 0.5908\n",
      "Spearman rho2: 0.6481\n"
     ]
    }
   ],
   "source": [
    "##MLR prediction, estimation\n",
    "y_pred = model_MLR.predict(X_test)\n",
    "print('Mean squared error: %.04f' %(mean_squared_error(y_test,y_pred)))\n",
    "print('Pearson R2: %.04f' %(stats.pearsonr(y_test,y_pred)[0]**2))\n",
    "print('Spearman rho2: %.04f' %(stats.spearmanr(y_test,y_pred)[0]**2))"
   ]
  },
  {
   "cell_type": "code",
   "execution_count": 8,
   "metadata": {},
   "outputs": [
    {
     "name": "stdout",
     "output_type": "stream",
     "text": [
      "Mean squared error: 25.2941\n",
      "Pearson R2: 0.6940\n",
      "Spearman rho2: 0.6712\n"
     ]
    }
   ],
   "source": [
    "#http://scikit-learn.org/stable/modules/generated/sklearn.svm.SVR.html\n",
    "#http://scikit-learn.org/stable/auto_examples/svm/plot_svm_regression.html#sphx-glr-auto-examples-svm-plot-svm-regression-py\n",
    "#preprocessing: IMPORTANT!!!!!\n",
    "scaler      = StandardScaler().fit(X_train) ## Gaussian with 0 mean and unit variance\n",
    "X_train     = scaler.transform(X_train)\n",
    "# Fit support vector regression model\n",
    "model_SVR   = SVR(kernel='rbf', C=1e3, gamma=0.1) #kernel, C, gamma...: Hyperparameters\n",
    "model_SVR.fit(X_train, y_train)\n",
    "\n",
    "X_test      = scaler.transform(X_test)\n",
    "y_pred      = model_SVR.predict(X_test)\n",
    "print('Mean squared error: %.04f' %(mean_squared_error(y_test,y_pred)))\n",
    "print('Pearson R2: %.04f' %(stats.pearsonr(y_test,y_pred)[0]**2))\n",
    "print('Spearman rho2: %.04f' %(stats.spearmanr(y_test,y_pred)[0]**2))\n"
   ]
  },
  {
   "cell_type": "code",
   "execution_count": null,
   "metadata": {},
   "outputs": [],
   "source": [
    "n_folds = 5\n",
    "scorer  = make_scorer(mean_squared_error)\n",
    "scores  = cross_val_score(model_SVR, X_train, y_train, cv=n_folds,scoring=scorer)\n",
    "#OOOOX\n",
    "#OOOXO\n",
    "#OOXOO\n",
    "#OXOOO\n",
    "#XOOOO\n",
    "print(scores)\n",
    "print('%d-fold CV error: %.04f' %(n_folds, np.mean(scores)))"
   ]
  },
  {
   "cell_type": "code",
   "execution_count": 9,
   "metadata": {},
   "outputs": [
    {
     "name": "stdout",
     "output_type": "stream",
     "text": [
      "Best parameters set found on development set:\n",
      "{'C': 100, 'gamma': 0.1, 'kernel': 'rbf'}\n",
      "Grid scores on development set:\n",
      "-65.264 (+/-28.032) for {'C': 1, 'gamma': 0.001, 'kernel': 'rbf'}\n",
      "-34.418 (+/-23.739) for {'C': 1, 'gamma': 0.01, 'kernel': 'rbf'}\n",
      "-30.648 (+/-17.722) for {'C': 1, 'gamma': 0.1, 'kernel': 'rbf'}\n",
      "-32.004 (+/-22.140) for {'C': 10, 'gamma': 0.001, 'kernel': 'rbf'}\n",
      "-16.340 (+/-12.709) for {'C': 10, 'gamma': 0.01, 'kernel': 'rbf'}\n",
      "-14.611 (+/-8.481) for {'C': 10, 'gamma': 0.1, 'kernel': 'rbf'}\n",
      "-20.701 (+/-15.691) for {'C': 100, 'gamma': 0.001, 'kernel': 'rbf'}\n",
      "-12.098 (+/-6.666) for {'C': 100, 'gamma': 0.01, 'kernel': 'rbf'}\n",
      "-11.839 (+/-6.773) for {'C': 100, 'gamma': 0.1, 'kernel': 'rbf'}\n",
      "-14.296 (+/-10.876) for {'C': 1000, 'gamma': 0.001, 'kernel': 'rbf'}\n",
      "-12.999 (+/-8.236) for {'C': 1000, 'gamma': 0.01, 'kernel': 'rbf'}\n",
      "-14.611 (+/-7.710) for {'C': 1000, 'gamma': 0.1, 'kernel': 'rbf'}\n",
      "-22.440 (+/-15.471) for {'C': 1, 'kernel': 'linear'}\n",
      "-22.404 (+/-15.264) for {'C': 10, 'kernel': 'linear'}\n",
      "-22.424 (+/-15.266) for {'C': 100, 'kernel': 'linear'}\n",
      "-22.442 (+/-15.293) for {'C': 1000, 'kernel': 'linear'}\n"
     ]
    }
   ],
   "source": [
    "##Hyper_parameter optimization of SVR using grid search of cross validation\n",
    "n_folds    = 5 #5-fold CV\n",
    "model_SVR  = SVR()\n",
    "hyp_params = [{'kernel':['rbf'],'gamma': [0.001,0.01,0.1],'C':[1,10,100,1000]},\n",
    "              {'kernel': ['linear'], 'C': [1, 10, 100, 1000]}]\n",
    "\n",
    "regr   = GridSearchCV(model_SVR,hyp_params,cv=n_folds,scoring='neg_mean_squared_error')\n",
    "regr.fit(X_train, y_train)\n",
    "print(\"Best parameters set found on development set:\")\n",
    "print(regr.best_params_)\n",
    "means = regr.cv_results_['mean_test_score']\n",
    "stds  = regr.cv_results_['std_test_score']\n",
    "print(\"Grid scores on development set:\")\n",
    "for mean, std, params in zip(means, stds, regr.cv_results_['params']):\n",
    "        print(\"%0.3f (+/-%0.03f) for %r\"\n",
    "              % (mean, std * 2, params))"
   ]
  },
  {
   "cell_type": "code",
   "execution_count": 10,
   "metadata": {},
   "outputs": [
    {
     "name": "stdout",
     "output_type": "stream",
     "text": [
      "Mean squared error: 20.6781\n",
      "Pearson R2: 0.7472\n",
      "Spearman rho2: 0.7282\n"
     ]
    }
   ],
   "source": [
    "y_pred =   regr.predict(X_test)\n",
    "print('Mean squared error: %.04f' %(mean_squared_error(y_test,y_pred)))\n",
    "print('Pearson R2: %.04f' %(stats.pearsonr(y_test,y_pred)[0]**2))\n",
    "print('Spearman rho2: %.04f' %(stats.spearmanr(y_test,y_pred)[0]**2))"
   ]
  },
  {
   "cell_type": "code",
   "execution_count": 11,
   "metadata": {},
   "outputs": [
    {
     "name": "stdout",
     "output_type": "stream",
     "text": [
      "22.532806324110677\n",
      "Over  25 (1) 124\n",
      "Under 25 (0) 382\n"
     ]
    }
   ],
   "source": [
    "## ROC/PR curve, AUC\n",
    "print(np.mean(boston.target))\n",
    "#Let's set separation criteria as 30\n",
    "cutoff = 25\n",
    "print('Over  %d (1)' %cutoff,len([i for i in boston.target if i>cutoff]))\n",
    "print('Under %d (0)' %cutoff,len([i for i in boston.target if i<=cutoff]))\n",
    "\n",
    "y_test_binary        = np.where(y_test>cutoff,1,0)\n",
    "fpr, tpr, _          = roc_curve(y_test_binary,y_pred)\n",
    "precision, recall, _ = precision_recall_curve(y_test_binary, y_pred)\n",
    "average_precision    = average_precision_score(y_test_binary, y_pred)\n",
    "roc_auc              = auc(fpr,tpr)\n"
   ]
  },
  {
   "cell_type": "code",
   "execution_count": 12,
   "metadata": {},
   "outputs": [
    {
     "data": {
      "image/png": "[encoded data removed]",
      "text/plain": [
       "<matplotlib.figure.Figure at 0x26c1fadc080>"
      ]
     },
     "metadata": {},
     "output_type": "display_data"
    }
   ],
   "source": [
    "plt.figure()\n",
    "lw = 2\n",
    "plt.plot(fpr, tpr, color='darkorange',\n",
    "         lw=lw, label='ROC curve (area = %0.2f)' % roc_auc)\n",
    "plt.plot([0, 1], [0, 1], color='navy', lw=lw, linestyle='--')\n",
    "plt.xlim([0.0, 1.0])\n",
    "plt.ylim([0.0, 1.05])\n",
    "plt.xlabel('False Positive Rate')\n",
    "plt.ylabel('True Positive Rate')\n",
    "plt.title('Receiver operating characteristic example, y cutoff=%d' %cutoff)\n",
    "plt.legend(loc=\"lower right\")\n",
    "plt.show()\n",
    "plt.close()"
   ]
  },
  {
   "cell_type": "code",
   "execution_count": 13,
   "metadata": {},
   "outputs": [
    {
     "data": {
      "image/png": "[encoded data removed]",
      "text/plain": [
       "<matplotlib.figure.Figure at 0x26c21b01cf8>"
      ]
     },
     "metadata": {},
     "output_type": "display_data"
    }
   ],
   "source": [
    "plt.figure()\n",
    "\n",
    "plt.step(recall, precision, color='b', alpha=0.2,\n",
    "         where='post')\n",
    "plt.fill_between(recall, precision, step='post', alpha=0.2,\n",
    "                 color='b')\n",
    "\n",
    "plt.xlabel('Recall')\n",
    "plt.ylabel('Precision')\n",
    "plt.ylim([0.0, 1.05])\n",
    "plt.xlim([0.0, 1.0])\n",
    "plt.title('2-class Precision-Recall curve: AP={0:0.2f}'.format(\n",
    "          average_precision))\n",
    "plt.show()\n",
    "plt.close()"
   ]
  },
  {
   "cell_type": "code",
   "execution_count": null,
   "metadata": {},
   "outputs": [],
   "source": []
  }
 ],
 "metadata": {
  "kernelspec": {
   "display_name": "Python 3",
   "language": "python",
   "name": "python3"
  },
  "language_info": {
   "codemirror_mode": {
    "name": "ipython",
    "version": 3
   },
   "file_extension": ".py",
   "mimetype": "text/x-python",
   "name": "python",
   "nbconvert_exporter": "python",
   "pygments_lexer": "ipython3",
   "version": "3.6.3"
  }
 },
 "nbformat": 4,
 "nbformat_minor": 2
}
